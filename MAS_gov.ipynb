{
 "cells": [
  {
   "cell_type": "markdown",
   "id": "58467e90-7464-4ac2-aeb6-7a548f628416",
   "metadata": {},
   "source": [
    "# Demo - Monetary Authority of Singapore (MAS)\n",
    "- following demo showcases web scraping using JSON files and Gov't API"
   ]
  },
  {
   "cell_type": "code",
   "execution_count": 1,
   "id": "69ae0289-a123-4816-93e4-68d9dea62178",
   "metadata": {},
   "outputs": [],
   "source": [
    "import requests\n",
    "import pandas as pd\n",
    "\n",
    "proxies = { 'http' : 'http://proxy.jpmchase.net:8443/', 'https' : 'http://proxy.jpmchase.net:8443/' }"
   ]
  },
  {
   "cell_type": "code",
   "execution_count": 2,
   "id": "6b400da8-ced6-43f9-8bae-5f7cbcd5fe4f",
   "metadata": {
    "tags": []
   },
   "outputs": [],
   "source": [
    "# https://www.scrapingbee.com/curl-converter/python/\n",
    "headers = {\n",
    "    'Accept': 'application/json, text/plain, */*',\n",
    "    'Accept-Language': 'en-US,en;q=0.9',\n",
    "    'Connection': 'keep-alive',\n",
    "    'Origin': 'https://www.mas.gov.sg',\n",
    "    'Referer': 'https://www.mas.gov.sg/',\n",
    "    'Sec-Fetch-Dest': 'empty',\n",
    "    'Sec-Fetch-Mode': 'cors',\n",
    "    'Sec-Fetch-Site': 'same-site',\n",
    "    'User-Agent': 'Mozilla/5.0 (Windows NT 10.0; Win64; x64) AppleWebKit/537.36 (KHTML, like Gecko) Chrome/109.0.0.0 Safari/537.36',\n",
    "    'sec-ch-ua': '\"Not_A Brand\";v=\"99\", \"Google Chrome\";v=\"109\", \"Chromium\";v=\"109\"',\n",
    "    'sec-ch-ua-mobile': '?0',\n",
    "    'sec-ch-ua-platform': '\"Windows\"',\n",
    "}\n",
    "\n",
    "params = {\n",
    "    'rows': '100',\n",
    "}"
   ]
  },
  {
   "cell_type": "code",
   "execution_count": 3,
   "id": "26c2f4a1-dc40-4268-8846-c66411511e74",
   "metadata": {
    "tags": []
   },
   "outputs": [],
   "source": [
    "url = 'https://eservices.mas.gov.sg/statistics/api/v1/bondsandbills/m/listbondsandbills'\n",
    "response = requests.get(url, params=params, headers=headers, proxies=proxies)"
   ]
  },
  {
   "cell_type": "code",
   "execution_count": 4,
   "id": "60bbd6cf-a1c3-4d1d-b097-5c8e6331a8b6",
   "metadata": {
    "tags": []
   },
   "outputs": [],
   "source": [
    "data = response.json()"
   ]
  },
  {
   "cell_type": "code",
   "execution_count": 6,
   "id": "c66e7dfe-2ab7-417a-b126-0e634cc3c806",
   "metadata": {
    "tags": []
   },
   "outputs": [],
   "source": [
    "df = pd.DataFrame(data['result']['records'])\n",
    "df.head()"
   ]
  },
  {
   "cell_type": "code",
   "execution_count": 49,
   "id": "8f7ae124-cde2-4880-b858-725507315be4",
   "metadata": {},
   "outputs": [],
   "source": [
    "url = 'https://eservices.mas.gov.sg/statistics/api/v1/bondsandbills/m/listbondsandbills?rows=15&filters=product_type:%22B%22%20AND%20auction_tenor:%220.5%22%20AND%20auction_date:[2022-10-09%20TO%202023-04-09]&sort=auction_date%20asc%20AND%20raw_tenor%20asc&start=0'"
   ]
  },
  {
   "cell_type": "markdown",
   "id": "b9d6d48c-e30e-45c5-b0a9-27791da8636b",
   "metadata": {
    "tags": []
   },
   "source": [
    "## API Example\n",
    "https://www.mas.gov.sg/Statistics/APIs/API-Documentation.aspx"
   ]
  },
  {
   "cell_type": "code",
   "execution_count": 7,
   "id": "2a4bf151-96c0-4403-b5b0-748d1e147ac6",
   "metadata": {
    "tags": []
   },
   "outputs": [],
   "source": [
    "import requests\n",
    "\n",
    "headers = {\n",
    "    'Accept': 'application/json, text/plain, */*',\n",
    "    'Accept-Language': 'en-US,en;q=0.9',\n",
    "    'Connection': 'keep-alive',\n",
    "    'Origin': 'https://www.mas.gov.sg',\n",
    "    'Referer': 'https://www.mas.gov.sg/',\n",
    "    'Sec-Fetch-Dest': 'empty',\n",
    "    'Sec-Fetch-Mode': 'cors',\n",
    "    'Sec-Fetch-Site': 'same-site',\n",
    "    'User-Agent': 'Mozilla/5.0 (Windows NT 10.0; Win64; x64) AppleWebKit/537.36 (KHTML, like Gecko) Chrome/109.0.0.0 Safari/537.36',\n",
    "    'sec-ch-ua': '\"Not_A Brand\";v=\"99\", \"Google Chrome\";v=\"109\", \"Chromium\";v=\"109\"',\n",
    "    'sec-ch-ua-mobile': '?0',\n",
    "    'sec-ch-ua-platform': '\"Windows\"',\n",
    "}\n",
    "\n",
    "url = 'https://eservices.mas.gov.sg/api/action/datastore/search.json?resource_id=5f2b18a8-0883-4769-a635-879c63d3caac&limit=5'\n",
    "\n",
    "response = requests.get(url, headers=headers, proxies=proxies)"
   ]
  },
  {
   "cell_type": "code",
   "execution_count": 8,
   "id": "02421ea1-c770-44be-abce-2ad5efb95a96",
   "metadata": {
    "tags": []
   },
   "outputs": [],
   "source": [
    "data = response.json()"
   ]
  },
  {
   "cell_type": "code",
   "execution_count": 9,
   "id": "9b08a2bb-46d8-4e1a-b3fd-bb8a0684fbbd",
   "metadata": {
    "tags": []
   },
   "outputs": [],
   "source": [
    "#This is the JSON that gets returned\n",
    "data"
   ]
  },
  {
   "cell_type": "code",
   "execution_count": 10,
   "id": "65e041ce-3be5-455a-8011-809e7393f109",
   "metadata": {
    "tags": []
   },
   "outputs": [],
   "source": [
    "df = pd.DataFrame(data['result']['records'])\n",
    "df"
   ]
  },
  {
   "cell_type": "markdown",
   "id": "73254d07-9204-4b52-8975-e20af7bd50aa",
   "metadata": {},
   "source": [
    "## Auction Data"
   ]
  },
  {
   "cell_type": "code",
   "execution_count": 11,
   "id": "3f558ff8-cf03-48cc-9b06-6faa64c5b90c",
   "metadata": {
    "tags": []
   },
   "outputs": [],
   "source": [
    "url = 'https://eservices.mas.gov.sg/statistics/api/v1/bondsandbills/m/listbondsandbills?rows=15&filters=product_type:%22B%22%20AND%20auction_tenor:%220.5%22%20AND%20auction_date:[2022-10-09%20TO%202023-04-09]&sort=auction_date%20asc%20AND%20raw_tenor%20asc&start=0'"
   ]
  },
  {
   "cell_type": "code",
   "execution_count": 12,
   "id": "31a4b447-e293-4713-93a4-0e1b804e4350",
   "metadata": {},
   "outputs": [],
   "source": [
    "response = requests.get(url, headers=headers, proxies=proxies)"
   ]
  },
  {
   "cell_type": "code",
   "execution_count": 14,
   "id": "dee8eaa3-2fde-4b54-8119-1b562a1000de",
   "metadata": {
    "tags": []
   },
   "outputs": [],
   "source": [
    "data = response.json()\n",
    "df= pd.DataFrame(data['result']['records'])\n",
    "df.head()"
   ]
  }
 ],
 "metadata": {
  "header": "# Id:          $Id: $\n# Copyright:   2023 J.P. Morgan Chase & Co. Incorporated.  All rights reserved.\n# Type:        research\n# Group:       AthenaAnalystTraining\n# Flags:       py2 py3\n# Description: Jupyter notebook created by bogdan.tudose\n\n",
  "kernelspec": {
   "display_name": "Athena 3.7",
   "language": "python",
   "name": "athena_py3"
  },
  "language_info": {
   "codemirror_mode": {
    "name": "ipython",
    "version": 3
   },
   "file_extension": ".py",
   "mimetype": "text/x-python",
   "name": "python",
   "nbconvert_exporter": "python",
   "pygments_lexer": "ipython3",
   "version": "3.7.9"
  }
 },
 "nbformat": 4,
 "nbformat_minor": 5
}