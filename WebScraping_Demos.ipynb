{
 "cells": [
  {
   "cell_type": "markdown",
   "metadata": {},
   "source": [
    "# ADAPT Pro - Web Scraping on Athena\n",
    "see: https://jpmc.stackenterprise.co/questions/279/290#290\n",
    "\n",
    "- you need to first connect to the website using the requests library and provide a proxies variable in the `requests.get()` function\n",
    "- sometimes you also need to provide a `headers` variable (see example below on Yahoo Finance)"
   ]
  },
  {
   "cell_type": "markdown",
   "metadata": {
    "tags": []
   },
   "source": [
    "## Scraping Table from Website with Pandas\n",
    "- use requests to connect to website through proxy\n",
    "- use pandas to covert html table into a DataFrame with `read_html()`\n",
    "    - read_html creates a list of dataframes, you then need to put out the one you want"
   ]
  },
  {
   "cell_type": "code",
   "execution_count": 1,
   "metadata": {
    "tags": []
   },
   "outputs": [],
   "source": [
    "import requests\n",
    "import pandas as pd\n",
    "proxies = { 'http' : 'http://proxy.jpmchase.net:8443/', 'https' : 'http://proxy.jpmchase.net:8443/' }"
   ]
  },
  {
   "cell_type": "code",
   "execution_count": 2,
   "metadata": {
    "tags": []
   },
   "outputs": [],
   "source": [
    "url = 'https://www.iposcoop.com/last-100-ipos/'\n",
    "res = requests.get( url, proxies = proxies )\n",
    "\n",
    "ipos = pd.read_html(res.text)[0]\n",
    "# ipos\n",
    "# ipos.info()"
   ]
  },
  {
   "cell_type": "code",
   "execution_count": 3,
   "metadata": {
    "tags": []
   },
   "outputs": [],
   "source": [
    "url = 'https://www.iposcoop.com/last-100-ipos/'\n",
    "res = requests.get( url, proxies = proxies )"
   ]
  },
  {
   "cell_type": "markdown",
   "metadata": {},
   "source": [
    "## Scraping Multiple Tables with Pandas\n"
   ]
  },
  {
   "cell_type": "code",
   "execution_count": 4,
   "metadata": {
    "tags": []
   },
   "outputs": [],
   "source": [
    "url = 'https://en.wikipedia.org/wiki/List_of_S%26P_500_companies'\n",
    "res = requests.get(url, proxies = proxies)\n",
    "dfs = pd.read_html(res.text)\n",
    "len(dfs), type(dfs)"
   ]
  },
  {
   "cell_type": "code",
   "execution_count": 5,
   "metadata": {
    "tags": []
   },
   "outputs": [],
   "source": [
    "sp500_data = dfs[0]\n",
    "sp500_data.head()"
   ]
  },
  {
   "cell_type": "markdown",
   "metadata": {},
   "source": [
    "**Scraping with Headers**\n",
    "- some websites require headers with at least a User Agent to provide more details about your device\n",
    "- can find your actual User-Agent here: https://www.whatismybrowser.com/detect/what-is-my-user-agent/"
   ]
  },
  {
   "cell_type": "markdown",
   "metadata": {},
   "source": [
    "https://finance.yahoo.com/quote/TSLA/key-statistics?p=TSLA\n",
    "- has multiple tables"
   ]
  },
  {
   "cell_type": "code",
   "execution_count": 6,
   "metadata": {
    "tags": []
   },
   "outputs": [],
   "source": [
    "headers = {\n",
    "    'User-Agent': 'Mozilla/5.0 (Windows NT 10.0; Win64; x64) AppleWebKit/537.36 (KHTML, like Gecko) Chrome/99.0.4844.51 Safari/537.36'\n",
    "}"
   ]
  },
  {
   "cell_type": "code",
   "execution_count": 7,
   "metadata": {
    "tags": []
   },
   "outputs": [],
   "source": [
    "url = 'https://finance.yahoo.com/quote/AAPL/key-statistics?p=AAPL'\n",
    "res = requests.get(url, headers=headers, proxies = proxies )\n",
    "\n",
    "dfs = pd.read_html(res.text)\n",
    "# dfs\n",
    "valMeasures = dfs[0]\n",
    "valMeasures\n",
    "# dfs[1] #to see all the tables"
   ]
  },
  {
   "cell_type": "code",
   "execution_count": 8,
   "metadata": {
    "tags": []
   },
   "outputs": [],
   "source": [
    "dfs[3] #dividend table"
   ]
  },
  {
   "cell_type": "markdown",
   "metadata": {},
   "source": [
    "## Scraping CSV/Excel Files Directly with Pandas\n",
    "- on home device can scrape url of csv directly with read_csv\n",
    "- on Athena need to use the io library"
   ]
  },
  {
   "cell_type": "code",
   "execution_count": 9,
   "metadata": {
    "tags": []
   },
   "outputs": [],
   "source": [
    "url = 'https://fred.stlouisfed.org/graph/fredgraph.csv?bgcolor=%23e1e9f0&chart_type=line&drp=0&fo=open%20sans&graph_bgcolor=%23ffffff&height=450&mode=fred&recession_bars=on&txtcolor=%23444444&ts=12&tts=12&width=959&nt=0&thu=0&trc=0&show_legend=yes&show_axis_titles=yes&show_tooltip=yes&id=GNPCA&scale=left&cosd=1929-01-01&coed=2022-01-01&line_color=%234572a7&link_values=false&line_style=solid&mark_type=none&mw=3&lw=2&ost=-99999&oet=99999&mma=0&fml=a&fq=Annual&fam=avg&fgst=lin&fgsnd=2020-02-01&line_index=1&transformation=lin&vintage_date=2023-04-25&revision_date=2023-04-25&nd=1929-01-01'"
   ]
  },
  {
   "cell_type": "code",
   "execution_count": 10,
   "metadata": {
    "tags": []
   },
   "outputs": [],
   "source": [
    "import io\n",
    "s = requests.get(url, proxies=proxies).text\n",
    "df = pd.read_csv(io.StringIO(s))"
   ]
  },
  {
   "cell_type": "code",
   "execution_count": 11,
   "metadata": {
    "tags": []
   },
   "outputs": [],
   "source": [
    "df.head()"
   ]
  },
  {
   "cell_type": "markdown",
   "metadata": {},
   "source": [
    "## Scraping with JSON\n",
    "- some websites require headers for the requests formula (e.g. Yahoo Finance)"
   ]
  },
  {
   "cell_type": "code",
   "execution_count": 12,
   "metadata": {
    "tags": []
   },
   "outputs": [],
   "source": [
    "import requests\n",
    "proxies = { 'http' : 'http://proxy.jpmchase.net:8443/', 'https' : 'http://proxy.jpmchase.net:8443/' }\n",
    "headers = {\n",
    "    'User-Agent': 'Mozilla/5.0 (Windows NT 10.0; Win64; x64) AppleWebKit/537.36 (KHTML, like Gecko) Chrome/99.0.4844.51 Safari/537.36'\n",
    "}"
   ]
  },
  {
   "cell_type": "code",
   "execution_count": 13,
   "metadata": {
    "tags": []
   },
   "outputs": [],
   "source": [
    "url = 'https://query2.finance.yahoo.com/v7/finance/quote?symbols=tsla'\n",
    "response = requests.get(url, headers=headers, proxies=proxies)"
   ]
  },
  {
   "cell_type": "code",
   "execution_count": 14,
   "metadata": {
    "tags": []
   },
   "outputs": [],
   "source": [
    "# response.text"
   ]
  },
  {
   "cell_type": "code",
   "execution_count": 15,
   "metadata": {
    "tags": []
   },
   "outputs": [],
   "source": [
    "df = pd.read_json(response.text)\n",
    "df"
   ]
  },
  {
   "cell_type": "code",
   "execution_count": 16,
   "metadata": {
    "tags": []
   },
   "outputs": [],
   "source": [
    "aapl = pd.DataFrame(df.loc['result'][0])\n",
    "aapl"
   ]
  },
  {
   "cell_type": "code",
   "execution_count": 17,
   "metadata": {
    "tags": []
   },
   "outputs": [],
   "source": [
    "aapl['ask']"
   ]
  },
  {
   "cell_type": "markdown",
   "metadata": {},
   "source": [
    "## Scraping Multiple JSON files"
   ]
  },
  {
   "cell_type": "code",
   "execution_count": 18,
   "metadata": {
    "tags": []
   },
   "outputs": [],
   "source": [
    "#ADD THESE AT TOP OF YOUR NOTEBOOK\n",
    "import requests\n",
    "proxies = { 'http' : 'http://proxy.jpmchase.net:8443/', 'https' : 'http://proxy.jpmchase.net:8443/' }\n",
    "headers = {\n",
    "    'User-Agent': 'Mozilla/5.0 (Windows NT 10.0; Win64; x64) AppleWebKit/537.36 (KHTML, like Gecko) Chrome/99.0.4844.51 Safari/537.36'\n",
    "}\n",
    "\n",
    "#Replicating for multiple tickers\n",
    "tickers = ['AAPL', 'MSFT', 'TSLA', 'BA', 'META']\n",
    "def pullYFinJSON(ticker):\n",
    "    url = \"https://query2.finance.yahoo.com/v7/finance/quote?symbols=\" + ticker\n",
    "    response = requests.get(url, headers=headers, proxies=proxies) #NEW CODE\n",
    "#     df = pd.read_json(url) #OLD\n",
    "    df = pd.read_json(response.text) #NEW CODE\n",
    "    df = pd.DataFrame(df.loc['result'][0])\n",
    "    df.set_index('symbol', inplace=True) #renaming index as the ticker to keep track of data\n",
    "    return df\n",
    "\n",
    "outputs = pd.DataFrame() #empty table\n",
    "for ticker in tickers:\n",
    "    tickerData = pullYFinJSON(ticker)\n",
    "    outputs = pd.concat([outputs, tickerData])"
   ]
  },
  {
   "cell_type": "code",
   "execution_count": 19,
   "metadata": {
    "tags": []
   },
   "outputs": [],
   "source": [
    "outputs"
   ]
  },
  {
   "cell_type": "code",
   "execution_count": 20,
   "metadata": {
    "tags": []
   },
   "outputs": [],
   "source": [
    "#to export back into excel\n",
    "outputs.to_excel('yahoo finance.xlsx')"
   ]
  },
  {
   "cell_type": "code",
   "execution_count": 21,
   "metadata": {
    "tags": []
   },
   "outputs": [],
   "source": [
    "#to extract data\n",
    "outputs.loc['MSFT']['regularMarketPrice']"
   ]
  },
  {
   "cell_type": "markdown",
   "metadata": {},
   "source": [
    "## Scraping JSON Files with CURL\n",
    "- find the JSON file on the Network --> XHR tab using the steps discussed in class\n",
    "- copy/paste the CURL Bash in a CURL converter website such as:\n",
    "    - https://www.scrapingbee.com/curl-converter/python/\n",
    "- copy the Python code output, add the proxies if running on Athena\n",
    "- add code to convert to JSON and then DataFrame"
   ]
  },
  {
   "cell_type": "markdown",
   "metadata": {},
   "source": [
    "**Demo - LifeMark Locations**"
   ]
  },
  {
   "cell_type": "code",
   "execution_count": 22,
   "metadata": {
    "tags": []
   },
   "outputs": [],
   "source": [
    "#CODE copied from Curl converter \n",
    "#Replace cookies below with own cookies\n",
    "\n",
    "import requests\n",
    "\n",
    "cookies = {\n",
    "    '_mkto_trk': 'id:329-QRK-460&token:_mch-www.lifemark.ca-1664534245114-41095',\n",
    "    '_ga': 'GA1.3.1126905227.1664534258',\n",
    "    '__adroll_fpc': 'a42dcf763a181c7f934cff926761ee2d-1664534261622',\n",
    "    'refer_tracking': '%7B%22utm_source%22%3A%22google%22%2C%22utm_medium%22%3A%22organic%22%2C%22utm_content%22%3A%22None%22%2C%22utm_campaign%22%3A%22None%22%7D',\n",
    "    'SSESS4fdb616e5db174181fd6a90b9ddbc286': 'IJURjV4xYtIus2NiEuH4ggNuLkhn5VGbbASZ8_hRhmQ',\n",
    "    '__cflb': '0H28vCKPfwtxZg8t9TpNQpsnRUc8UMjtUt2jMmniS4U',\n",
    "    '_gid': 'GA1.3.1428454953.1682397758',\n",
    "    '_gat': '1',\n",
    "    '_gcl_au': '1.1.1907727603.1682397758',\n",
    "    '_ga': 'GA1.1.1126905227.1664534258',\n",
    "    'calltrk_referrer': 'https%3A//www.google.com/',\n",
    "    'calltrk_landing': 'https%3A//www.lifemark.ca/locations',\n",
    "    '__ar_v4': '%7CIHBITIW7HFFGFI3FIV2BRK%3A20230425%3A1%7COBMQYICQ5RCFROKGB7HAB7%3A20230425%3A1%7CY67X6CSBZREERIK73QFYXP%3A20230425%3A1',\n",
    "    '_ga_T97HKMXPMG': 'GS1.1.1682397757.1.0.1682397766.0.0.0',\n",
    "}\n",
    "\n",
    "headers = {\n",
    "    'Accept': 'application/json, text/javascript, */*; q=0.01',\n",
    "    'Accept-Language': 'en-US,en;q=0.9',\n",
    "    'Connection': 'keep-alive',\n",
    "    'Content-Type': 'application/x-www-form-urlencoded; charset=UTF-8',\n",
    "    # Requests sorts cookies= alphabetically\n",
    "    # 'Cookie': '_mkto_trk=id:329-QRK-460&token:_mch-www.lifemark.ca-1664534245114-41095; _ga=GA1.3.1126905227.1664534258; __adroll_fpc=a42dcf763a181c7f934cff926761ee2d-1664534261622; refer_tracking=%7B%22utm_source%22%3A%22google%22%2C%22utm_medium%22%3A%22organic%22%2C%22utm_content%22%3A%22None%22%2C%22utm_campaign%22%3A%22None%22%7D; SSESS4fdb616e5db174181fd6a90b9ddbc286=IJURjV4xYtIus2NiEuH4ggNuLkhn5VGbbASZ8_hRhmQ; __cflb=0H28vCKPfwtxZg8t9TpNQpsnRUc8UMjtUt2jMmniS4U; _gid=GA1.3.1428454953.1682397758; _gat=1; _gcl_au=1.1.1907727603.1682397758; _ga=GA1.1.1126905227.1664534258; calltrk_referrer=https%3A//www.google.com/; calltrk_landing=https%3A//www.lifemark.ca/locations; __ar_v4=%7CIHBITIW7HFFGFI3FIV2BRK%3A20230425%3A1%7COBMQYICQ5RCFROKGB7HAB7%3A20230425%3A1%7CY67X6CSBZREERIK73QFYXP%3A20230425%3A1; _ga_T97HKMXPMG=GS1.1.1682397757.1.0.1682397766.0.0.0',\n",
    "    'Origin': 'https://www.lifemark.ca',\n",
    "    'Referer': 'https://www.lifemark.ca/locations',\n",
    "    'Sec-Fetch-Dest': 'empty',\n",
    "    'Sec-Fetch-Mode': 'cors',\n",
    "    'Sec-Fetch-Site': 'same-origin',\n",
    "    'User-Agent': 'Mozilla/5.0 (Windows NT 10.0; Win64; x64) AppleWebKit/537.36 (KHTML, like Gecko) Chrome/111.0.0.0 Safari/537.36',\n",
    "    'sec-ch-ua': '\"Google Chrome\";v=\"111\", \"Not(A:Brand\";v=\"8\", \"Chromium\";v=\"111\"',\n",
    "    'sec-ch-ua-mobile': '?0',\n",
    "    'sec-ch-ua-platform': '\"Windows\"',\n",
    "}\n",
    "\n",
    "data = {\n",
    "    'address': '',\n",
    "    'lat': '51.5621883',\n",
    "    'lng': '-88.2596971',\n",
    "    'max_kilometers': '1000000',\n",
    "    'result_limit': '350',\n",
    "    'services': '[]',\n",
    "    'provinces': '[]',\n",
    "    'current_path': 'locations',\n",
    "}\n",
    "\n",
    "# response = requests.post('https://www.lifemark.ca/locations/searchcallback', cookies=cookies, headers=headers, data=data)\n",
    "response = requests.post('https://www.lifemark.ca/locations/searchcallback',\n",
    "                         proxies=proxies,\n",
    "                         cookies=cookies,\n",
    "                         headers=headers, data=data)"
   ]
  },
  {
   "cell_type": "code",
   "execution_count": 23,
   "metadata": {
    "tags": []
   },
   "outputs": [],
   "source": [
    "#CODE not generated by CURL converter\n",
    "data = response.json()\n",
    "# data # need to go into 'results' key\n",
    "df = pd.DataFrame(data['results'])\n",
    "df.head()"
   ]
  },
  {
   "cell_type": "markdown",
   "metadata": {},
   "source": [
    "**Demo - CVC Portfolio**\n",
    "- try with CVC portfolio of investments:\n",
    "https://www.cvc.com/strategies/our-portfolio/"
   ]
  },
  {
   "cell_type": "code",
   "execution_count": 24,
   "metadata": {
    "tags": []
   },
   "outputs": [],
   "source": [
    "import requests\n",
    "\n",
    "cookies = {\n",
    "    'CookieControl': '{\"necessaryCookies\":[\"XSRF-V\",\"XSRF-TOKEN\",\"UMB_UCONTEXT\",\"UMB_UPDCHK\",\"UMB-XSRF-TOKEN\",\"alertsFormVals\"],\"optionalCookies\":{\"analytics\":\"accepted\"},\"statement\":{},\"consentDate\":1682398166418,\"consentExpiry\":90,\"interactedWith\":true,\"user\":\"9BAC7897-9481-4878-B3CB-5471CE12D953\"}',\n",
    "    '_gid': 'GA1.2.1506761338.1682398167',\n",
    "    '_gat_UA-21900355-1': '1',\n",
    "    '_ga': 'GA1.1.808752660.1682398167',\n",
    "    '_ga_VVKFQTL0H0': 'GS1.1.1682398211.1.1.1682398224.0.0.0',\n",
    "}\n",
    "\n",
    "headers = {\n",
    "    'Accept': '*/*',\n",
    "    'Accept-Language': 'en-US,en;q=0.9',\n",
    "    'Connection': 'keep-alive',\n",
    "    # Requests sorts cookies= alphabetically\n",
    "    # 'Cookie': 'CookieControl={\"necessaryCookies\":[\"XSRF-V\",\"XSRF-TOKEN\",\"UMB_UCONTEXT\",\"UMB_UPDCHK\",\"UMB-XSRF-TOKEN\",\"alertsFormVals\"],\"optionalCookies\":{\"analytics\":\"accepted\"},\"statement\":{},\"consentDate\":1682398166418,\"consentExpiry\":90,\"interactedWith\":true,\"user\":\"9BAC7897-9481-4878-B3CB-5471CE12D953\"}; _gid=GA1.2.1506761338.1682398167; _gat_UA-21900355-1=1; _ga=GA1.1.808752660.1682398167; _ga_VVKFQTL0H0=GS1.1.1682398211.1.1.1682398224.0.0.0',\n",
    "    'Referer': 'https://www.cvc.com/strategies/our-portfolio/?strategy=Europe/Americas&country=all&industries=all&cardName=null',\n",
    "    'Sec-Fetch-Dest': 'empty',\n",
    "    'Sec-Fetch-Mode': 'cors',\n",
    "    'Sec-Fetch-Site': 'same-origin',\n",
    "    'User-Agent': 'Mozilla/5.0 (Windows NT 10.0; Win64; x64) AppleWebKit/537.36 (KHTML, like Gecko) Chrome/111.0.0.0 Safari/537.36',\n",
    "    'X-Requested-With': 'XMLHttpRequest',\n",
    "    'sec-ch-ua': '\"Google Chrome\";v=\"111\", \"Not(A:Brand\";v=\"8\", \"Chromium\";v=\"111\"',\n",
    "    'sec-ch-ua-mobile': '?0',\n",
    "    'sec-ch-ua-platform': '\"Windows\"',\n",
    "}\n",
    "\n",
    "params = {\n",
    "    'pageKey': '76273fbf-2d9e-4bb4-8630-70903f7a0cef',\n",
    "    'strategy': 'all',\n",
    "    'country': 'all',\n",
    "    'industries': 'all',\n",
    "}\n",
    "\n",
    "# response = requests.get('https://www.cvc.com/umbraco/Surface/LocationItems/PortfolioMapItems', params=params, cookies=cookies, headers=headers)\n",
    "response = requests.get('https://www.cvc.com/umbraco/Surface/LocationItems/PortfolioMapItems', \n",
    "                        params=params,\n",
    "                        cookies=cookies,\n",
    "                        headers=headers,\n",
    "                       proxies=proxies) #add proxies"
   ]
  },
  {
   "cell_type": "code",
   "execution_count": 25,
   "metadata": {
    "tags": []
   },
   "outputs": [],
   "source": [
    "data = response.json()\n",
    "len(data)"
   ]
  },
  {
   "cell_type": "code",
   "execution_count": 26,
   "metadata": {
    "tags": []
   },
   "outputs": [],
   "source": [
    "df = pd.DataFrame(data)\n",
    "df.set_index('Name').head()"
   ]
  },
  {
   "cell_type": "markdown",
   "metadata": {
    "tags": []
   },
   "source": [
    "## Scraping with JSON API\n",
    "- usully require a TOKEN\n",
    "- documentation provides examples to try out\n",
    "- steps to convert to dataframe are similar to regular JSON scrape\n",
    "\n",
    "Examples of APIs:\n",
    "- FRED St. Louis Fed API: https://fred.stlouisfed.org/docs/api/fred/\n",
    "    - request your own API key: https://fred.stlouisfed.org/docs/api/api_key.html"
   ]
  },
  {
   "cell_type": "markdown",
   "metadata": {},
   "source": [
    "### FRED API\n",
    "- *change the API token below with your own API key*\n",
    "- observations series: https://fred.stlouisfed.org/docs/api/fred/series_observations.html\n",
    "    - start with base URL\n",
    "    - add API key: `api_key=xxxxx....xxxx`\n",
    "    - add file type, e.g. json: `&file_type=json`\n",
    "    - add series ID: `series_id=`\n",
    "    - add frequency, e.g. d for daily, m for monthly, etc.: `&frequency=m`\n",
    "    "
   ]
  },
  {
   "cell_type": "markdown",
   "metadata": {},
   "source": [
    "**PLEASE REPLACE API KEY BELOW WITH YOUR OWN KEY**\n",
    "- https://fred.stlouisfed.org/docs/api/api_key.html"
   ]
  },
  {
   "cell_type": "code",
   "execution_count": 27,
   "metadata": {
    "tags": []
   },
   "outputs": [],
   "source": [
    "apiKey = '&api_key=2080f5d1960f074428e503fd03e71960'\n",
    "# apiKey = 'replace with your own API KEY'"
   ]
  },
  {
   "cell_type": "code",
   "execution_count": 28,
   "metadata": {
    "tags": []
   },
   "outputs": [],
   "source": [
    "rootURL = 'https://api.stlouisfed.org/fred/series/observations?series_id='\n",
    "seriesID = 'GNPCA' #https://fred.stlouisfed.org/series/GNPCA, real gross national product\n",
    "fileType = '&file_type=json'\n",
    "freq = '&frequency=a' #annual\n",
    "\n",
    "url = rootURL + seriesID + apiKey + fileType + freq\n",
    "req = requests.get(url, proxies=proxies)\n",
    "data = req.json()"
   ]
  },
  {
   "cell_type": "code",
   "execution_count": 29,
   "metadata": {
    "tags": []
   },
   "outputs": [],
   "source": [
    "# data\n",
    "df = pd.DataFrame(data['observations'])\n",
    "# df.head()\n",
    "# df.info()\n",
    "df['date'] = pd.to_datetime(df['date'])\n",
    "df['value'] = df['value'].astype(float)"
   ]
  },
  {
   "cell_type": "code",
   "execution_count": 30,
   "metadata": {
    "tags": []
   },
   "outputs": [],
   "source": [
    "df.plot(x='date',y='value', title='Annual Real Gross National Product (GNPCA)')"
   ]
  },
  {
   "cell_type": "markdown",
   "metadata": {},
   "source": [
    "### EDGAR API\n",
    "- documentation: https://www.sec.gov/edgar/sec-api-documentation\n",
    "- need to grab proper cik of company you want to scrape\n",
    "    - list of all CIKs can be found here: https://sec.gov/files/company_tickers.json\n",
    "    - however, need to add leading 0's, 10 digits total\n",
    "    - e.g. Apple is not 320193, it is, '0000320193'"
   ]
  },
  {
   "cell_type": "markdown",
   "metadata": {},
   "source": [
    "**List of CIKs**"
   ]
  },
  {
   "cell_type": "code",
   "execution_count": 31,
   "metadata": {
    "tags": []
   },
   "outputs": [],
   "source": [
    "#list of all CIKs\n",
    "url='https://sec.gov/files/company_tickers.json'\n",
    "response = requests.get(url, headers=headers, proxies=proxies)\n",
    "data = response.json()\n",
    "df = pd.DataFrame(data).T\n",
    "df.head()"
   ]
  },
  {
   "cell_type": "markdown",
   "metadata": {},
   "source": [
    "**Submissions Information**\n",
    "- filing history is available at: https://data.sec.gov/submissions/CIK##########.json"
   ]
  },
  {
   "cell_type": "code",
   "execution_count": 32,
   "metadata": {
    "tags": []
   },
   "outputs": [],
   "source": [
    "cik = '0000320193' #Apple\n",
    "url = 'https://data.sec.gov/submissions/CIK{}.json'.format(cik)\n",
    "response = requests.get(url, headers=headers, proxies=proxies)\n",
    "data = response.json()\n",
    "# data\n",
    "data['name']"
   ]
  },
  {
   "attachments": {
    "4cb02a10-f65e-46e5-8c26-c102dcc87f26.png": {
     "image/png": "[encoded data removed]"
    },
    "e19087ed-42e5-4fbf-8a24-a61ef80fe3c9.png": {
     "image/png": "[encoded data removed]"
    }
   },
   "cell_type": "markdown",
   "metadata": {},
   "source": [
    "**Available KPIs**\n",
    "- list of all kpi's/accounting metrics that can be extracted: https://data.sec.gov/api/xbrl/companyfacts/CIK##########.json\n",
    "- easier to see what the kpi is called by looking at interactive data:\n",
    "    - https://www.sec.gov/Archives/edgar/data/320193/000032019323000006/0000320193-23-000006-index.htm\n",
    "    ![image.png](attachment:e19087ed-42e5-4fbf-8a24-a61ef80fe3c9.png)\n",
    "    ![image.png](attachment:4cb02a10-f65e-46e5-8c26-c102dcc87f26.png)"
   ]
  },
  {
   "cell_type": "code",
   "execution_count": 33,
   "metadata": {
    "tags": []
   },
   "outputs": [],
   "source": [
    "url = 'https://data.sec.gov/api/xbrl/companyfacts/CIK{}.json'.format(cik)\n",
    "response = requests.get(url, headers=headers, proxies=proxies)\n",
    "data = response.json()\n",
    "# data\n",
    "kpis = pd.DataFrame(data['facts']['us-gaap']).T\n",
    "kpis.head()"
   ]
  },
  {
   "cell_type": "markdown",
   "metadata": {},
   "source": [
    "**Pulling in historical metrics**\n",
    "- e.g.: https://data.sec.gov/api/xbrl/companyconcept/CIK##########/us-gaap/AccountsPayableCurrent.json"
   ]
  },
  {
   "cell_type": "code",
   "execution_count": 34,
   "metadata": {
    "tags": []
   },
   "outputs": [],
   "source": [
    "# kpi = 'AccountsPayableCurrent'\n",
    "kpi = 'RevenueFromContractWithCustomerExcludingAssessedTax'\n",
    "url = 'https://data.sec.gov/api/xbrl/companyconcept/CIK{}/us-gaap/{}.json'.format(cik, kpi)\n",
    "response = requests.get(url, headers=headers, proxies=proxies)\n",
    "data = response.json()\n",
    "df = pd.DataFrame(data['units']['USD'])\n",
    "df.tail(10)\n",
    "# data"
   ]
  },
  {
   "cell_type": "markdown",
   "metadata": {},
   "source": [
    "## Scraping with Beautiful Soup\n",
    "1. Connect to website\n",
    "    - use requests to connect to URL\n",
    "    - convert code into \"soup\" object with `BeautifulSoup` function\n",
    "2. Find Web Elements\n",
    "    - find the tag type and attributes (e.g. class, id, etc.)\n",
    "3. Extract Web Elements\n",
    "    - usually find all the major sections and loop through each section\n",
    "    - save all individual pieces of information in separate lists\n",
    "4. Save lists into a dataframe table\n",
    "    - convert all the lists into a dataframe by using a dictionary where keys = column names, values = lists you created with data for each column\n",
    "    - e.g. `pd.DataFrame({'Company':listcompanies, 'Link':listlinks})`"
   ]
  },
  {
   "cell_type": "markdown",
   "metadata": {},
   "source": [
    "### Demo with J.P. Morgan News Articles"
   ]
  },
  {
   "cell_type": "markdown",
   "metadata": {},
   "source": [
    "**Step 1 - connect to website**"
   ]
  },
  {
   "cell_type": "code",
   "execution_count": 35,
   "metadata": {
    "tags": []
   },
   "outputs": [],
   "source": [
    "from bs4 import BeautifulSoup\n",
    "import pandas as pd\n",
    "import requests"
   ]
  },
  {
   "cell_type": "code",
   "execution_count": 36,
   "metadata": {
    "tags": []
   },
   "outputs": [],
   "source": [
    "url = 'https://www.jpmorgan.com/news'\n",
    "response = requests.get(url, headers=headers, proxies=proxies)"
   ]
  },
  {
   "cell_type": "code",
   "execution_count": 37,
   "metadata": {
    "tags": []
   },
   "outputs": [],
   "source": [
    "soup = BeautifulSoup(response.text)"
   ]
  },
  {
   "cell_type": "markdown",
   "metadata": {},
   "source": [
    "**Step 2 - find web elements**\n",
    "- major article sections --> div, class=item\n",
    "- titles of each article --> div, class=title\n",
    "- links --> a, can use href to grab the links\n",
    "- dates --> div, class=date"
   ]
  },
  {
   "cell_type": "markdown",
   "metadata": {},
   "source": [
    "**Step 3 - extract web elements**"
   ]
  },
  {
   "cell_type": "code",
   "execution_count": 38,
   "metadata": {
    "tags": []
   },
   "outputs": [],
   "source": [
    "sections = soup.find_all('div', {'class':'item'})\n",
    "len(sections)"
   ]
  },
  {
   "cell_type": "code",
   "execution_count": 39,
   "metadata": {
    "tags": []
   },
   "outputs": [],
   "source": [
    "#create lists\n",
    "titles = []\n",
    "dates = []\n",
    "links = []\n",
    "for section in sections:\n",
    "    titleTag = section.find('div',{'class':'title'})\n",
    "    dateTag = section.find('div',{'class':'date'})\n",
    "    linkTag = section.find('a')\n",
    "    titles.append(titleTag.text.strip())\n",
    "    dates.append(dateTag.text.strip())\n",
    "    links.append(linkTag['href'])"
   ]
  },
  {
   "cell_type": "markdown",
   "metadata": {},
   "source": [
    "**Step 4 - create dataframe**"
   ]
  },
  {
   "cell_type": "code",
   "execution_count": 40,
   "metadata": {
    "tags": []
   },
   "outputs": [],
   "source": [
    "articles = pd.DataFrame({'Title':titles,\n",
    "                        'Date':dates,\n",
    "                        'Link':links})"
   ]
  },
  {
   "cell_type": "code",
   "execution_count": 41,
   "metadata": {
    "tags": []
   },
   "outputs": [],
   "source": [
    "articles.head()"
   ]
  },
  {
   "cell_type": "markdown",
   "metadata": {},
   "source": [
    "### Demo with Marquee Upcoming Evenets"
   ]
  },
  {
   "cell_type": "code",
   "execution_count": 42,
   "metadata": {
    "tags": []
   },
   "outputs": [],
   "source": [
    "#Step 1 - connect to site\n",
    "url = 'https://marqueegroup.ca/events/'\n",
    "response = requests.get(url, headers=headers, proxies=proxies)\n",
    "soup = BeautifulSoup(response.text)"
   ]
  },
  {
   "cell_type": "code",
   "execution_count": 43,
   "metadata": {
    "tags": []
   },
   "outputs": [],
   "source": [
    "#Step 2 - find tags\n",
    "#section - div, card__content\n",
    "#date - div, event__date\n",
    "#title - div, title-6 event__title\n",
    "#description - p, small event__description\n",
    "#location - div, event__location\n",
    "#register link - span, link fancy-link regist#er"
   ]
  },
  {
   "cell_type": "code",
   "execution_count": 44,
   "metadata": {
    "tags": []
   },
   "outputs": [],
   "source": [
    "#Step 3 - extract elements\n",
    "courses = {'Event Date':[],\n",
    "          'Course Name':[],\n",
    "          'Description':[],\n",
    "          'Location':[],\n",
    "          'Link':[]}\n",
    "\n",
    "sections = soup.find_all('div',{'class':'card__content'})\n",
    "len(sections)"
   ]
  },
  {
   "cell_type": "code",
   "execution_count": 45,
   "metadata": {
    "tags": []
   },
   "outputs": [],
   "source": [
    "for section in sections:\n",
    "    date = section.find('div',{'class':'event__date'})\n",
    "    title = section.find('div',{'class':'title-6 event__title'})\n",
    "    desc = section.find('p',{'class':'small event__description'})\n",
    "    location = section.find('div',{'class':'event__location'})\n",
    "    link = section.find('span',{'class':'link learn-more'})\n",
    "    \n",
    "    courses['Event Date'].append(date.text)\n",
    "    courses['Course Name'].append(title.text)\n",
    "    courses['Description'].append(desc.text.strip())\n",
    "    courses['Location'].append(location.text)\n",
    "    if link:\n",
    "        courses['Link'].append(link['href'])\n",
    "    else:\n",
    "        courses['Link'].append('n.a.')"
   ]
  },
  {
   "cell_type": "code",
   "execution_count": 46,
   "metadata": {
    "tags": []
   },
   "outputs": [],
   "source": [
    "#Step 4 - create table\n",
    "coursesTable = pd.DataFrame(courses)\n",
    "coursesTable"
   ]
  }
 ],
 "metadata": {
  "header": "# Id:          $Id: $\n# Copyright:   2022 J.P. Morgan Chase & Co. Incorporated.  All rights reserved.\n# Type:        research\n# Group:       AthenaAnalystTraining\n# Flags:       py2 py3\n# Description: Jupyter notebook created by bogdan.tudose\n\n",
  "kernelspec": {
   "display_name": "Athena 3.7",
   "language": "python",
   "name": "athena_py3"
  },
  "language_info": {
   "codemirror_mode": {
    "name": "ipython",
    "version": 3
   },
   "file_extension": ".py",
   "mimetype": "text/x-python",
   "name": "python",
   "nbconvert_exporter": "python",
   "pygments_lexer": "ipython3",
   "version": "3.7.9"
  }
 },
 "nbformat": 4,
 "nbformat_minor": 4
}